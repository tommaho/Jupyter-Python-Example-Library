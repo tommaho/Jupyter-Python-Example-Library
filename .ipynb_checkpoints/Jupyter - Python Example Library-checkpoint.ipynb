{
 "cells": [
  {
   "cell_type": "markdown",
   "metadata": {},
   "source": []
  },
  {
   "cell_type": "markdown",
   "metadata": {},
   "source": [
    "<a id='top' /></a>\n",
    "\n",
    "# Python Example Library\n",
    "\n",
    "#### Notes for ad hoc data work in Python.\n",
    "\n",
    "Tom Mahoney\n",
    "\n",
    "tmahoney@pct.edu\n",
    "\n",
    "Last Updated 2-13-2023\n",
    "\n",
    "\n",
    "#### Better docs than mine:\n",
    "\n",
    "<ul>\n",
    "<li><a href=\"https://docs.python.org/\" target=\"_blank\">Python</a> </li>\n",
    "<li><a href=\"https://matplotlib.org/\" target=\"_blank\">Matplotlib</a> </li>\n",
    "<li><a href=\"https://numpy.org/doc/stable/\" target=\"_blank\">Numpy</a> </li>\n",
    "<li><a href=\"https://pandas.pydata.org/pandas-docs/stable/index.html\" target=\"_blank\">Pandas</a></li>\n",
    "<li><a href=\"https://scikit-learn.org/stable/index.html\" target=\"_blank\">Scikit</a></li>\n",
    "<li><a href=\"https://docs.scipy.org/doc/scipy/\" target=\"_blank\">Scipy</a></li>    \n",
    "<li><a href=\"https://seaborn.pydata.org/\" target=\"_blank\">Seaborn</a></li>\n",
    "\n",
    "</ul>\n",
    "\n",
    "#### <a href=\"https://nbviewer.org/github/tommaho/Jupyter-Python-Example-Library/blob/main/Jupyter%20-%20Python%20Example%20Library.ipynb#top\" target=\"_blank\">View this file via nbviewer.org for navigation interactivity</a>\n",
    "\n",
    "#### TODO\n",
    "\n",
    "- return to ~source instead of notebook top\n",
    "- add sns and sklearn.datasets for test data\n",
    "- live dataframe examples\n",
    "- specific functions:\n",
    "    - dataframe unstack https://stackoverflow.com/questions/39323002/convert-pandas-groupby-group-into-columns\n",
    "    - pandas dummy operations for ml prep\n",
    "    - series to dataframe https://datatofish.com/convert-pandas-series-to-dataframe/\n",
    "    - pd.cut https://pandas.pydata.org/pandas-docs/stable/reference/api/pandas.cut.html\n",
    "    - fitting polynomial https://www.w3schools.com/python/python_ml_polynomial_regression.asp\n",
    "\n",
    "# Index\n",
    "\n",
    "### Test Data Generation <a id='test_head' /></a>\n",
    "\n",
    "<ul>\n",
    "    <li><a href=\"#arr_rand_int\">Create array of random integers</a></li>\n",
    "    <li><a href=\"#arr_reshape\">Reshape an array to 'table' or multi-dimensional array</a></li>\n",
    "    <li><a href=\"#arr_to_df\">Turn an array into a dataframe</a></li>\n",
    "    <li><a href=\"#df_from_dict_nans\">Create a dataframe from dict, with NaNs</a></li>\n",
    "    <li><a href=\"#test_cluster\">Create test cluster data</a></li>\n",
    "</ul>\n",
    "\n",
    "### Canned datasets\n",
    "<ul>\n",
    "    <li><a href=\"https://www.nltk.org/nltk_data/\" target=\"_blank\">NLTK (natural language tool kit) datasets</a></li>\n",
    "    <li><a href=\"https://docs.scipy.org/doc/scipy/reference/datasets.html\" target=\"_blank\">Scipy datasets</a></li>\n",
    "    <li><a href=\"https://scikit-learn.org/stable/datasets.html\" target=\"_blank\">Scikit datasets</a></li>\n",
    "    <li><a href=\"https://github.com/mwaskom/seaborn-data\" target=\"_blank\">Seaborn datasets</a></li> \n",
    "\n",
    "    \n",
    "  \n",
    "    \n",
    "</ul>\n",
    "\n",
    "\n",
    "### ML Specific\n",
    "\n",
    "<ul>\n",
    "<li><a href=\"#list_cat\">Listing categorical columns in a dataframe</a></li>\n",
    "<li><a href=\"#cardinality\">Showing cardinality of columns in a dataframe</a></li>\n",
    "\n",
    "</ul>\n",
    "\n",
    "\n",
    "### Strings & Text<a id='strings_text_head' /></a>\n",
    "<ul>\n",
    "<li><a href=\"#string_1\">String formatting</a></li>\n",
    "<li><a href=\"#regex_1\">REGEX - finding a word in a string</a></li>\n",
    "<li><a href=\"#regex_2\">REGEX - decomposing an address</a></li>\n",
    "<li><a href=\"#text_1\">Text - Tokenizing</a></li>\n",
    "<li><a href=\"#text_3\">Text - Tokenizing with a REGEX</a></li>\n",
    "<li><a href=\"#text_2\">Text - One Hot Vectorizing</a></li> \n",
    "</ul>\n",
    "\n",
    "\n",
    "## Arrays, lists, and dictionaries\n",
    "#### Arrays and list-likes<a id='array_list_head' /></a>\n",
    "\n",
    "<ul>\n",
    "<li><a href=\"#arrays\">Arrays and basic operations</a></li>\n",
    "<li><a href=\"#remove_from_list\">Remove an item from a list</a></li>\n",
    "<li><a href=\"#named_tuple\">Named tuple</a></li>\n",
    "<li><a href=\"#zip\">zip</a></li>\n",
    "<li><a href=\"#vstack\">vstack with transpose</a></li>\n",
    "<li><a href=\"#unpack_list\">unpacking lists with asterisk operator</a></li>\n",
    "</ul>\n",
    "\n",
    "\n",
    "#### Dicts<a id='dict_head' /></a>\n",
    "\n",
    "<ul>\n",
    "<li><a href=\"#dict_all\">Creating, adding, removing from dict</a></li>\n",
    "<li><a href=\"#lambda\">Sorting multi-dimensional with lambda</a></li>\n",
    "<li><a href=\"#dict_1\">Sorting a dictionary by values</a></li>\n",
    "<li><a href=\"#dict_min\">Finding the min key by dict value</a></li>\n",
    "</ul>\n",
    "\n",
    "\n",
    "## Dataframes \n",
    "\n",
    "### Creating<a id='creating_dfs' /></a>\n",
    "\n",
    "<ul>\n",
    "<li><a href=\"#convert_to_df\">Converting lists and dicts to dataframes</a></li>\n",
    "<li><a href=\"#dataframes_3\">Create a new dataframe from subset of existing</a></li> \n",
    "<li><a href=\"#arr_to_df\">Turn an array into a dataframe</a></li>\n",
    "<li><a href=\"#df_from_dict_nans\">Create a dataframe from dict, with NaNs</a></li>    \n",
    "</ul>\n",
    "\n",
    "### Altering<a id='altering_dfs' /></a>\n",
    "\n",
    "<ul>\n",
    "<li><a href=\"#dataframes_2\">Adding new dumb column to existing dataframe</a></li>\n",
    "<li><a href=\"#dataframes_5\">Adding function columns with <em>apply</em></a></li>\n",
    "<li><a href=\"#add_row\">Adding rows to a dataframe</a></li>\n",
    "<li><a href=\"#set_index\">Changing or setting dataframe index</a></li>  \n",
    "    <li><a href=\"#drop_cols\">Dropping columns from pandas dataframe</a></li>\n",
    "<li><a href=\"#del\">Deleting a column from a dataframe</a></li>\n",
    "<li><a href=\"#dataframes_6\">Joining dataframes</a></li>\n",
    "<li><a href=\"#dataframes_4\">Joining multiple dataframes</a></li>\n",
    "<li><a href=\"#dataframes_rename\">Renaming dataframe columns</a></li>    \n",
    "<li><a href=\"#df_types\">Changing column datatypes in dataframe</a></li>  \n",
    "<li><a href=\"https://stackoverflow.com/questions/48279405/converting-object-types-columns-into-numeric-type-using-pandas\" target=\"_blank\">Converting df column types</a></li>   \n",
    "<li><a href=\"https://stackoverflow.com/questions/48279405/converting-object-types-columns-into-numeric-type-using-pandas\" target=\"_blank\">Converting df columns to numeric</a></li> \n",
    "<li><a href=\"#df_pad\">Zero-padding a string column in dataframe</a></li>    \n",
    "<li><a href=\"https://stackoverflow.com/questions/20937538/how-to-display-pandas-dataframe-of-floats-using-a-format-string-for-columns\" target=\"_blank\">Changing float display properties</a></li>    \n",
    "</ul>\n",
    "\n",
    "\n",
    "### Cleaning\n",
    "\n",
    "<ul>\n",
    "    <li><a href=\"#find_na\">Find dataframe columns with missing values</a></li>\n",
    "    <li><a href=\"#na_counts\">Counts of NA values by column</a></li>\n",
    "\n",
    "    \n",
    "<li><a href=\"#data_1\">Handling bad or missing data = NAs</a></li>\n",
    "<li><a href=\"#df_dupes\">Removing duplicates from a dataframe</a></li>\n",
    "<li><a href=\"https://stackoverflow.com/questions/21287624/convert-pandas-column-containing-nans-to-dtype-int\"target=\"_blank\">Convert NaNs to ints</a></li>    \n",
    "<li><a href=\"https://stackoverflow.com/questions/41476150/remove-or-replace-spaces-in-column-names\">Removing whitespace</a></li>    \n",
    "</ul>\n",
    "\n",
    "### Exploring\n",
    "\n",
    "<ul>\n",
    "<li><a href=\"#data_3\">Dataframe aggregation</a></li>\n",
    "<li><a href=\"#data_5\">Aggregation with groupby</a></li>\n",
    "<li><a href=\"#is_in\">Filtering on multiple values with `isin`</a></li>\n",
    "<li><a href=\"#filter_list\">Filtering data using a list of filter criteria</a></li>\n",
    "<li><a href=\"#data_2\">Filtering data</a></li>\n",
    "<li><a href=\"#iterrows\">Iterating over dataframe rows</a></li>\n",
    "<li><a href=\"#dataframes_1\">Listing column names</a></li>\n",
    "<li><a href=\"#info\">Metadata with info</a></li>\n",
    "<li><a href=\"#melt\">Pivoting and generalizing columns with pd.melt()</a></li>\n",
    "<li><a href=\"#print_dataframes\">Printing dataframes</a></li>\n",
    "<li><a href=\"#df_sort\">Sorting dataframe by column value</a></li>\n",
    "    \n",
    "<li><a href=\"#value_counts\">Exploration with df{attr}.value_counts()</a></li>\n",
    "<li><a href=\"#describe\">Simple stats with describe</a></li>\n",
    "\n",
    "</ul>\n",
    "\n",
    "\n",
    "### General Data\n",
    "\n",
    "<ul>\n",
    "<li><a href=\"#dict_nested\">Accessing nested dict entries</a></li>\n",
    "<li><a href=\"#dict_append\">Appending a Key-Value pair to a dictionary</a></li>\n",
    "<li><a href=\"#data_4\">Calculating percentiles</a></li>\n",
    "<li><a href=\"#date_time\">Date and time stuff</a></li>\n",
    "</ul>\n",
    "\n",
    "\n",
    "### Filesystem\n",
    "##### File Operations\n",
    "<ul>\n",
    "<li><a href=\"#files_1\">Reading / writing text files via <em>with open ... as</em></a></li>\n",
    "<li><a href=\"#files_2\">Pandas csv operations</a></li>\n",
    "<li><a href=\"#tsv\">Pandas Tsv operations</a></li>\n",
    "<li><a href=\"#to_excel\">Writing a dataframe to Excel with to_excel</a></li>\n",
    "<li><a href=\"#img_to_excel\">Inserting an image in an Excel spreadsheetl</a></li>\n",
    "<li><a href=\"#excel_read_1\">Reading from an Excel file</a></li>\n",
    "\n",
    "</ul>\n",
    "\n",
    "\n",
    "### Misc\n",
    "<ul>\n",
    "<li><a href=\"#path\">sys path</a></li>\n",
    "<li><a href=\"#template\">header template with datamart references</a></li>\n",
    "</ul>\n",
    "\n",
    "### Utility functions\n",
    "<ul>\n",
    "    <li><a href=\"#bag\"><strong>Bag</strong> Concatenates duplicated results into single 'cell' (like FOR XML in MSSQL)</a></li>\n",
    "    <li><a href=\"#autotable\"><strong>Autotable</strong> Automatic pretty-printing for multidimensional report-like arrays. Currently maybe a little broken.</a></li>\n",
    "</ul>\n",
    "\n",
    "\n",
    "### Visualizations\n",
    "<ul>\n",
    "<li><a href=\"#plot_excel\">Saving a plot image into an Excel spreadsheet</a></li>\n",
    "<li><a href=\"#fast_hist\">Fast full dataframe histograms</a></li>\n",
    "<li><a href=\"#fast_hist_single\">Fast single attribute histograms</a></li>\n",
    "<li><a href=\"#fast_scatter\">Fast full dataframe scatter correlations</a></li>\n",
    "<li><a href=\"#rotate_xlabel\">Rotate x-labels</a></li>\n",
    "<li><a href=\"#seaborn_heatmap\">Seaborn Heatmap</a></li>\n",
    "<li><a href=\"https://www.kaggle.com/alexisbcook/choosing-plot-types-and-custom-styles\" target=\"_blank\">Seaborn Vis Notes</a></li>\n",
    "\n",
    "</ul>\n",
    "\n",
    "<a href=\"#top\">Back to top</a>"
   ]
  },
  {
   "cell_type": "markdown",
   "metadata": {},
   "source": [
    "<a id=arr_rand_int /> </a>\n",
    "\n",
    "### Test Data: Generate an array of random ints\n",
    "\n",
    "<a href=\"#test_head\">Back to top</a>"
   ]
  },
  {
   "cell_type": "code",
   "execution_count": 22,
   "metadata": {},
   "outputs": [
    {
     "data": {
      "text/plain": [
       "array([41, 23, 16, 64, 16, 44, 22, 37, 41,  7, 12, 85, 34, 79, 91, 98,  9,\n",
       "       90, 16, 54, 13, 61, 33,  4, 20, 57, 93, 72, 22,  6, 99, 31,  7,  4,\n",
       "       77, 73, 22, 50, 23, 51, 34, 10, 50, 49, 98, 76, 39,  5, 48,  4,  2,\n",
       "       45, 94, 88, 54, 59, 10,  6, 14, 10, 44, 25, 89, 36, 40, 55, 59, 68,\n",
       "       23, 98, 22, 70, 98, 46, 41, 83, 96, 74, 85, 67, 69, 30, 49,  9, 60,\n",
       "       49, 33, 64, 24, 19, 26, 76, 15, 32,  6, 69, 30, 39, 14, 95])"
      ]
     },
     "execution_count": 22,
     "metadata": {},
     "output_type": "execute_result"
    }
   ],
   "source": [
    "import numpy as np\n",
    "\n",
    "arr = np.random.randint(low = 0,high=100,size=100)\n",
    "\n",
    "arr"
   ]
  },
  {
   "cell_type": "markdown",
   "metadata": {},
   "source": [
    "<a id=test_cluster /> </a>\n",
    "\n",
    "### Test Data: Generate test cluster data\n",
    "\n",
    "<a href=\"#test_head\">Back to top</a>"
   ]
  },
  {
   "cell_type": "code",
   "execution_count": null,
   "metadata": {},
   "outputs": [],
   "source": [
    "#https://scikit-learn.org/stable/modules/generated/sklearn.datasets.make_blobs.html"
   ]
  },
  {
   "cell_type": "markdown",
   "metadata": {},
   "source": [
    "<a id=arr_reshape /> </a>\n",
    "\n",
    "### Test Data: Reshape an array to 'table' or multi-dimensional array\n",
    "\n",
    "<a href=\"#test_head\">Back to top</a>"
   ]
  },
  {
   "cell_type": "code",
   "execution_count": 3,
   "metadata": {},
   "outputs": [
    {
     "name": "stdout",
     "output_type": "stream",
     "text": [
      "[[60 98]\n",
      " [28 74]\n",
      " [99 65]\n",
      " [17 64]\n",
      " [ 2 98]\n",
      " [25 29]\n",
      " [80 62]\n",
      " [67  2]\n",
      " [42 37]\n",
      " [57 17]]\n",
      "[[60 98 28 74]\n",
      " [99 65 17 64]\n",
      " [ 2 98 25 29]\n",
      " [80 62 67  2]\n",
      " [42 37 57 17]]\n"
     ]
    }
   ],
   "source": [
    "import numpy as np\n",
    "\n",
    "arr = np.random.randint(low = 0,high=100,size=20)\n",
    "\n",
    "table1 = arr.reshape(10,2)\n",
    "\n",
    "table2 = arr.reshape(5, -1) #the -1 is like a wildcard, 'just give me 5 rows'\n",
    "\n",
    "\n",
    "print(table1)\n",
    "print(table2)"
   ]
  },
  {
   "cell_type": "markdown",
   "metadata": {},
   "source": [
    "<a id=arr_to_df /> </a>\n",
    "\n",
    "### Test Data: Turn an array into a dataframe\n",
    "\n",
    "<a href=\"#creating_dfs\">Back to top</a>"
   ]
  },
  {
   "cell_type": "code",
   "execution_count": 24,
   "metadata": {},
   "outputs": [
    {
     "data": {
      "text/html": [
       "<div>\n",
       "<style scoped>\n",
       "    .dataframe tbody tr th:only-of-type {\n",
       "        vertical-align: middle;\n",
       "    }\n",
       "\n",
       "    .dataframe tbody tr th {\n",
       "        vertical-align: top;\n",
       "    }\n",
       "\n",
       "    .dataframe thead th {\n",
       "        text-align: right;\n",
       "    }\n",
       "</style>\n",
       "<table border=\"1\" class=\"dataframe\">\n",
       "  <thead>\n",
       "    <tr style=\"text-align: right;\">\n",
       "      <th></th>\n",
       "      <th>Col_A</th>\n",
       "      <th>Col_B</th>\n",
       "    </tr>\n",
       "  </thead>\n",
       "  <tbody>\n",
       "    <tr>\n",
       "      <th>0</th>\n",
       "      <td>70</td>\n",
       "      <td>1</td>\n",
       "    </tr>\n",
       "    <tr>\n",
       "      <th>1</th>\n",
       "      <td>0</td>\n",
       "      <td>94</td>\n",
       "    </tr>\n",
       "    <tr>\n",
       "      <th>2</th>\n",
       "      <td>39</td>\n",
       "      <td>33</td>\n",
       "    </tr>\n",
       "    <tr>\n",
       "      <th>3</th>\n",
       "      <td>52</td>\n",
       "      <td>39</td>\n",
       "    </tr>\n",
       "    <tr>\n",
       "      <th>4</th>\n",
       "      <td>75</td>\n",
       "      <td>44</td>\n",
       "    </tr>\n",
       "  </tbody>\n",
       "</table>\n",
       "</div>"
      ],
      "text/plain": [
       "   Col_A  Col_B\n",
       "0     70      1\n",
       "1      0     94\n",
       "2     39     33\n",
       "3     52     39\n",
       "4     75     44"
      ]
     },
     "execution_count": 24,
     "metadata": {},
     "output_type": "execute_result"
    }
   ],
   "source": [
    "import numpy as np\n",
    "import pandas as pd\n",
    "\n",
    "arr = np.random.randint(low = 0,high=100,size=20)\n",
    "\n",
    "table = arr.reshape(10,2)\n",
    "\n",
    "df = pd.DataFrame(table, columns=['Col_A', 'Col_B'])\n",
    "\n",
    "df.head()"
   ]
  },
  {
   "cell_type": "markdown",
   "metadata": {},
   "source": [
    "<a id=df_from_dict_nans /> </a>\n",
    "\n",
    "### Test Data:  Create a dataframe from dict, with NaNs\n",
    "\n",
    "https://pandas.pydata.org/pandas-docs/stable/reference/api/pandas.DataFrame.html\n",
    "\n",
    "<a href=\"#creating_dfs\">Back to top</a>"
   ]
  },
  {
   "cell_type": "code",
   "execution_count": 25,
   "metadata": {},
   "outputs": [
    {
     "data": {
      "text/html": [
       "<div>\n",
       "<style scoped>\n",
       "    .dataframe tbody tr th:only-of-type {\n",
       "        vertical-align: middle;\n",
       "    }\n",
       "\n",
       "    .dataframe tbody tr th {\n",
       "        vertical-align: top;\n",
       "    }\n",
       "\n",
       "    .dataframe thead th {\n",
       "        text-align: right;\n",
       "    }\n",
       "</style>\n",
       "<table border=\"1\" class=\"dataframe\">\n",
       "  <thead>\n",
       "    <tr style=\"text-align: right;\">\n",
       "      <th></th>\n",
       "      <th>col1</th>\n",
       "      <th>col2</th>\n",
       "      <th>col3</th>\n",
       "    </tr>\n",
       "  </thead>\n",
       "  <tbody>\n",
       "    <tr>\n",
       "      <th>0</th>\n",
       "      <td>1</td>\n",
       "      <td>3.0</td>\n",
       "      <td>NaN</td>\n",
       "    </tr>\n",
       "    <tr>\n",
       "      <th>1</th>\n",
       "      <td>2</td>\n",
       "      <td>4.0</td>\n",
       "      <td>NaN</td>\n",
       "    </tr>\n",
       "    <tr>\n",
       "      <th>2</th>\n",
       "      <td>4</td>\n",
       "      <td>NaN</td>\n",
       "      <td>4.0</td>\n",
       "    </tr>\n",
       "  </tbody>\n",
       "</table>\n",
       "</div>"
      ],
      "text/plain": [
       "   col1  col2  col3\n",
       "0     1   3.0   NaN\n",
       "1     2   4.0   NaN\n",
       "2     4   NaN   4.0"
      ]
     },
     "execution_count": 25,
     "metadata": {},
     "output_type": "execute_result"
    }
   ],
   "source": [
    "import numpy as np\n",
    "import pandas as pd\n",
    "\n",
    "d = {'col1': [1, 2, 4],\n",
    "     'col2': [3, 4, np.nan], \n",
    "    'col3': [np.nan, np.nan, 4]}\n",
    "df = pd.DataFrame(data=d)\n",
    "df\n"
   ]
  },
  {
   "cell_type": "markdown",
   "metadata": {},
   "source": [
    "<a id=find_na /></a>\n",
    "\n",
    "### Finding dataframe columns with missing values\n",
    "\n",
    "https://www.kaggle.com/alexisbcook/missing-values\n",
    "\n",
    "<a href=\"#top\">Back to top</a>"
   ]
  },
  {
   "cell_type": "code",
   "execution_count": 27,
   "metadata": {},
   "outputs": [
    {
     "data": {
      "text/plain": [
       "['col2', 'col3']"
      ]
     },
     "execution_count": 27,
     "metadata": {},
     "output_type": "execute_result"
    }
   ],
   "source": [
    "# Get names of columns with missing values\n",
    "cols_with_missing = [col for col in df.columns\n",
    "                     if df[col].isnull().any()]\n",
    "\n",
    "cols_with_missing"
   ]
  },
  {
   "cell_type": "markdown",
   "metadata": {},
   "source": [
    "<a id=list_cat /></a>\n",
    "\n",
    "### Listing categorical columns in a dataframe\n",
    "\n",
    "https://www.kaggle.com/alexisbcook/categorical-variables\n",
    "\n",
    "<a href=\"#top\">Back to top</a>"
   ]
  },
  {
   "cell_type": "code",
   "execution_count": null,
   "metadata": {},
   "outputs": [],
   "source": [
    "# Get list of categorical variables\n",
    "s = (X_train.dtypes == 'object')\n",
    "object_cols = list(s[s].index)\n",
    "\n",
    "print(\"Categorical variables:\")\n",
    "print(object_cols)"
   ]
  },
  {
   "cell_type": "markdown",
   "metadata": {},
   "source": [
    "<a id=cardinality /></a>\n",
    "\n",
    "### Displaying cardinality of columns in a dataframe\n",
    "\n",
    "https://www.kaggle.com/tommaho/exercise-categorical-variables/edit\n",
    "\n",
    "<a href=\"#top\">Back to top</a>"
   ]
  },
  {
   "cell_type": "code",
   "execution_count": null,
   "metadata": {},
   "outputs": [],
   "source": [
    "# Get number of unique entries in each column with categorical data\n",
    "object_nunique = list(map(lambda col: X_train[col].nunique(), object_cols))\n",
    "d = dict(zip(object_cols, object_nunique))\n",
    "\n",
    "# Print number of unique entries by column, in ascending order\n",
    "sorted(d.items(), key=lambda x: x[1])"
   ]
  },
  {
   "cell_type": "markdown",
   "metadata": {},
   "source": [
    "<a id=drop_cols /></a>\n",
    "\n",
    "### Dropping columns from a pandas dataframe\n",
    "\n",
    "https://www.kaggle.com/alexisbcook/missing-values\n",
    "\n",
    "<a href=\"#altering_dfs\">Back to top</a>"
   ]
  },
  {
   "cell_type": "code",
   "execution_count": null,
   "metadata": {},
   "outputs": [],
   "source": [
    "# Drop columns in training and validation data\n",
    "reduced_X_train = X_train.drop(cols_with_missing, axis=1)\n",
    "reduced_X_valid = X_valid.drop(cols_with_missing, axis=1)"
   ]
  },
  {
   "cell_type": "markdown",
   "metadata": {},
   "source": [
    "<a id=path /></a>\n",
    "\n",
    "### Appending a custom temporary sys.path\n",
    "\n",
    "<a href=\"#top\">Back to top</a>"
   ]
  },
  {
   "cell_type": "code",
   "execution_count": 1,
   "metadata": {},
   "outputs": [],
   "source": [
    "import sys\n",
    "sys.path.append('C:\\\\Users\\\\me\\\\My Documents\\\\Jupyter\\\\modules\\\\')"
   ]
  },
  {
   "cell_type": "markdown",
   "metadata": {},
   "source": [
    "<a id=arrays> </a>\n",
    "\n",
    "## Arrays and array operations\n",
    "\n",
    "<a href=\"#array_list_head\">Back to top</a>"
   ]
  },
  {
   "cell_type": "code",
   "execution_count": 34,
   "metadata": {},
   "outputs": [
    {
     "name": "stdout",
     "output_type": "stream",
     "text": [
      "List:  [1, 2, 3]\n",
      "List sorted reverse:  [3, 2, 1]\n",
      "Min:  1\n",
      "Max:  3\n"
     ]
    }
   ],
   "source": [
    "#more: https://docs.python.org/3/library/functions.html\n",
    "\n",
    "test = [1,2,3]\n",
    "print(\"List: \", test)\n",
    "print (\"List sorted reverse: \", sorted(test, reverse=True)) #sorted changes sort order temporarily\n",
    "#[3, 2, 1]\n",
    "\n",
    "print(\"Min: \", min(test))\n",
    "print(\"Max: \", max(test))\n",
    "\n",
    "test.sort(reverse=True) #this actually changes the sort order of the list\n"
   ]
  },
  {
   "cell_type": "markdown",
   "metadata": {},
   "source": [
    "<a id=remove_from_list> </a>\n",
    "\n",
    "## Remove item from list\n",
    "\n",
    "<a href=\"#array_list_head\">Back to top</a>"
   ]
  },
  {
   "cell_type": "code",
   "execution_count": null,
   "metadata": {},
   "outputs": [],
   "source": [
    "del non_question_fields[non_question_fields.index('_recordId')]"
   ]
  },
  {
   "cell_type": "markdown",
   "metadata": {},
   "source": [
    "<a id=dict_all> </a>\n",
    "\n",
    "## Dict Operations: create, add to, remove from\n",
    "\n",
    "<a href=\"#dict_head\">Back to top</a>"
   ]
  },
  {
   "cell_type": "code",
   "execution_count": 7,
   "metadata": {},
   "outputs": [],
   "source": [
    "my_dict = {}\n",
    "our_dict = {'one':1,\n",
    "           'two':2}\n",
    "\n",
    "#add a new item\n",
    "#https://stackoverflow.com/questions/6416131/add-a-new-item-to-a-dictionary-in-python\n",
    "\n",
    "my_dict['newvalue'] = 42\n",
    "my_dict['nextvalue'] = 43\n",
    "\n",
    "our_dict.update({'newvalue': 42})\n",
    "\n",
    "del my_dict['nextvalue'] #remove one item\n",
    "\n",
    "del my_dict #delete the whole dict\n"
   ]
  },
  {
   "cell_type": "markdown",
   "metadata": {},
   "source": [
    "<a id=lambda> </a>\n",
    "\n",
    "## Sorting multidimensional with lambda\n",
    "\n",
    "lambda in this example defines an anonymous function that is immediately-invocable, simply returning the second element as the key. \n",
    "\n",
    "More related info here: https://stackoverflow.com/questions/8966538/syntax-behind-sortedkey-lambda\n",
    "\n",
    "<a href=\"#dict_head\">Back to top</a>"
   ]
  },
  {
   "cell_type": "code",
   "execution_count": 35,
   "metadata": {},
   "outputs": [
    {
     "data": {
      "text/plain": [
       "[([2, 5, 7, 1, 6, 3, 6, 2, 6, 9, 5, 6, 1], 24494400),\n",
       " ([1, 6, 3, 6, 2, 6, 9, 5, 6, 1, 8, 8, 2], 44789760),\n",
       " ([5, 7, 1, 6, 3, 6, 2, 6, 9, 5, 6, 1, 8], 97977600),\n",
       " ([7, 1, 6, 3, 6, 2, 6, 9, 5, 6, 1, 8, 8], 156764160),\n",
       " ([7, 2, 5, 7, 1, 6, 3, 6, 2, 6, 9, 5, 6], 171460800),\n",
       " ([6, 3, 6, 2, 6, 9, 5, 6, 1, 8, 8, 2, 6], 268738560),\n",
       " ([3, 6, 2, 6, 9, 5, 6, 1, 8, 8, 2, 6, 7], 313528320)]"
      ]
     },
     "execution_count": 35,
     "metadata": {},
     "output_type": "execute_result"
    }
   ],
   "source": [
    "calc_list =  [([7, 2, 5, 7, 1, 6, 3, 6, 2, 6, 9, 5, 6], 171460800),\n",
    " ([2, 5, 7, 1, 6, 3, 6, 2, 6, 9, 5, 6, 1], 24494400),\n",
    " ([5, 7, 1, 6, 3, 6, 2, 6, 9, 5, 6, 1, 8], 97977600),\n",
    " ([7, 1, 6, 3, 6, 2, 6, 9, 5, 6, 1, 8, 8], 156764160),\n",
    " ([1, 6, 3, 6, 2, 6, 9, 5, 6, 1, 8, 8, 2], 44789760),\n",
    " ([6, 3, 6, 2, 6, 9, 5, 6, 1, 8, 8, 2, 6], 268738560),\n",
    " ([3, 6, 2, 6, 9, 5, 6, 1, 8, 8, 2, 6, 7], 313528320),]\n",
    "\n",
    "sorted_list = sorted(calc_list, key=lambda x: x[1])\n",
    "\n",
    "sorted_list"
   ]
  },
  {
   "cell_type": "markdown",
   "metadata": {},
   "source": [
    "<a id='dict_1'> </a>\n",
    "\n",
    "## Sorting a dictionary by values\n",
    "\n",
    "<a href=\"#dict_head\">Back to top</a>"
   ]
  },
  {
   "cell_type": "code",
   "execution_count": 40,
   "metadata": {},
   "outputs": [
    {
     "name": "stdout",
     "output_type": "stream",
     "text": [
      "Starting with:  {'five': 5, 'not really three': 3, 'onex hundred': 1, 'two': 2, 'four': 4}\n",
      "After sorting rev on second entry:  [('five', 5), ('four', 4), ('not really three', 3), ('two', 2), ('onex hundred', 1)]\n"
     ]
    }
   ],
   "source": [
    "\n",
    "test = {}\n",
    "test['five'] = 5\n",
    "test['not really three'] = 3\n",
    "test['onex hundred'] = 1\n",
    "test['two'] = 2\n",
    "test['four'] = 4\n",
    "print(\"Starting with: \", test)\n",
    "\n",
    "test_sorted = sorted(test.items(), key=lambda x: x[1], reverse=True)\n",
    "\n",
    "print(\"After sorting rev on second entry: \", test_sorted)\n"
   ]
  },
  {
   "cell_type": "markdown",
   "metadata": {},
   "source": [
    "<a id='dict_min'> </a>\n",
    "\n",
    "## Finding key for minimum and maximum values in a dict\n",
    "\n",
    "https://stackoverflow.com/questions/3282823/get-the-key-corresponding-to-the-minimum-value-within-a-dictionary\n",
    "\n",
    "<a href=\"#dict_head\">Back to top</a>"
   ]
  },
  {
   "cell_type": "code",
   "execution_count": null,
   "metadata": {},
   "outputs": [],
   "source": [
    "min(sample_dict, key=sample_dict.get)\n",
    "\n"
   ]
  },
  {
   "cell_type": "markdown",
   "metadata": {},
   "source": [
    "<a id='string_1'> </a>\n",
    "\n",
    "### String formatting\n",
    "\n",
    "<a href=\"#strings_text_head\">Back to top</a>\n"
   ]
  },
  {
   "cell_type": "code",
   "execution_count": 41,
   "metadata": {},
   "outputs": [
    {
     "name": "stdout",
     "output_type": "stream",
     "text": [
      "\n",
      "The quick brown fox\n",
      "jumped over the \n",
      "lazy dog.\n",
      "\n",
      "first animal: dog\n",
      "Second animal: cat\n"
     ]
    }
   ],
   "source": [
    "str = \"\"\"\n",
    "The quick brown {0}\n",
    "jumped over the \n",
    "lazy {1}.\n",
    "\"\"\".format('fox', 'dog')\n",
    "\n",
    "print(str)\n",
    "\n",
    "animal_1 = 'dog'\n",
    "animal_2 = 'cat'\n",
    "\n",
    "print(\"first animal: {}\\nSecond animal: {}\".format(animal_1, animal_2))"
   ]
  },
  {
   "cell_type": "markdown",
   "metadata": {},
   "source": [
    "<a id='files_1'> </a>\n",
    "\n",
    "## reading writing text files\n",
    "\n",
    "<a href=\"#top\">Back to top</a>"
   ]
  },
  {
   "cell_type": "code",
   "execution_count": 17,
   "metadata": {},
   "outputs": [
    {
     "name": "stdout",
     "output_type": "stream",
     "text": [
      "['hello']\n"
     ]
    }
   ],
   "source": [
    "#Creating a file when it doesnt exist\n",
    "\n",
    "with open('test.txt', 'w') as f:\n",
    "    f.write('hello')\n",
    "    f.close\n",
    "\n",
    "with open('test.txt', 'r') as f:\n",
    "    print(f.readlines())\n",
    "    f.close\n",
    "    \n",
    "\n",
    "    fname = 'Report.txt'\n",
    "\n",
    "with open(fname, 'w') as f:\n",
    "    f.write(report)\n",
    "    f.close"
   ]
  },
  {
   "cell_type": "markdown",
   "metadata": {},
   "source": [
    "<a id='excel_read_1'> </a>\n",
    "\n",
    "## reading excel files\n",
    "\n",
    "<a href=\"#top\">Back to top</a>"
   ]
  },
  {
   "cell_type": "code",
   "execution_count": null,
   "metadata": {},
   "outputs": [],
   "source": [
    "#https://pythonbasics.org/read-excel/\n",
    "\n",
    "import pandas as pd\n",
    "\n",
    "stage = pd.read_excel('map stage.xlsx')"
   ]
  },
  {
   "cell_type": "code",
   "execution_count": null,
   "metadata": {},
   "outputs": [],
   "source": []
  },
  {
   "cell_type": "markdown",
   "metadata": {},
   "source": [
    "<a id='files_2'> </a>\n",
    "\n",
    "## Pandas csv operations\n",
    "\n",
    "<a href=\"#top\">Back to top</a>"
   ]
  },
  {
   "cell_type": "code",
   "execution_count": null,
   "metadata": {},
   "outputs": [],
   "source": [
    "import pandas as pd\n",
    "\n",
    "df = pd.read_csv('your file goes here.csv')\n",
    "\n",
    "# remember read_csv(..., skiprows=1000000, nrows=999999)\n",
    "\n",
    "\n",
    "\n",
    "df.to_csv('output file.csv')\n",
    "\n",
    "section_a.to_csv('file no index.csv', index=False)\n",
    "\n",
    "\n",
    "#https://www.geeksforgeeks.org/pandas-strip-whitespace-from-entire-dataframe/\n",
    "\n",
    "emp_work_data = pd.read_csv('data\\File.CSV', converters={'Group': str.strip})\n"
   ]
  },
  {
   "cell_type": "markdown",
   "metadata": {},
   "source": [
    "<a id='tsv'> </a>\n",
    "\n",
    "## Pandas tsv operations\n",
    "\n",
    "<a href=\"#top\">Back to top</a>"
   ]
  },
  {
   "cell_type": "code",
   "execution_count": null,
   "metadata": {},
   "outputs": [],
   "source": [
    "data = pd.read_csv('Report.csv', sep='\\t', lineterminator='\\n')"
   ]
  },
  {
   "cell_type": "markdown",
   "metadata": {},
   "source": [
    "<a id='dataframes_3'> </a>\n",
    "\n",
    "## Create a new dataframe from subset of existing\n",
    "\n",
    "<a href=\"#creating_dfs\">Back to top</a>"
   ]
  },
  {
   "cell_type": "code",
   "execution_count": null,
   "metadata": {},
   "outputs": [],
   "source": [
    "\n",
    "df_new = df[['UNITID', 'APPLCN', 'ADMSSN', 'ENRLT']]\n"
   ]
  },
  {
   "cell_type": "markdown",
   "metadata": {},
   "source": [
    "<a id='dict_append'> </a>\n",
    "\n",
    "## Append a key value pair to an existing dict\n",
    "\n",
    "<a href=\"#top\">Back to top</a>"
   ]
  },
  {
   "cell_type": "code",
   "execution_count": null,
   "metadata": {},
   "outputs": [],
   "source": [
    "# https://thispointer.com/python-how-to-add-append-key-value-pairs-in-dictionary-using-dict-update/\n",
    "\n",
    "    table = {}\n",
    "    for entry in header:\n",
    "        table.update({entry : header[entry]})\n"
   ]
  },
  {
   "cell_type": "markdown",
   "metadata": {},
   "source": [
    "<a id='dict_nested'> </a>\n",
    "\n",
    "## Accessing nested dict entries\n",
    "\n",
    "<a href=\"#top\">Back to top</a>"
   ]
  },
  {
   "cell_type": "code",
   "execution_count": 4,
   "metadata": {},
   "outputs": [
    {
     "name": "stdout",
     "output_type": "stream",
     "text": [
      "PX lab:\t 31.5\n"
     ]
    }
   ],
   "source": [
    "#https://www.programiz.com/python-programming/nested-dictionary\n",
    "\n",
    "nested = {\n",
    "'PH': {'Credits': 31, 'Lab': 33.0},\n",
    "'PX': {'Credits': 52, 'Lab': 31.5},\n",
    "'WE': {'Credits': 59, 'Lab': 91.5},\n",
    "'PXA': {'Credits': 0, 'Lab': 0.0},\n",
    "'CNC': {'Credits': 33, 'Lab': 51.0}}\n",
    "\n",
    "print('PX lab:\\t', nested['PX']['Lab'])\n"
   ]
  },
  {
   "cell_type": "markdown",
   "metadata": {},
   "source": [
    "<a id='data_2'> </a>\n",
    "\n",
    "## Filtering data\n",
    "\n",
    "<a href=\"#top\">Back to top</a>"
   ]
  },
  {
   "cell_type": "code",
   "execution_count": 28,
   "metadata": {},
   "outputs": [
    {
     "ename": "NameError",
     "evalue": "name 'data' is not defined",
     "output_type": "error",
     "traceback": [
      "\u001b[0;31m---------------------------------------------------------------------------\u001b[0m",
      "\u001b[0;31mNameError\u001b[0m                                 Traceback (most recent call last)",
      "\u001b[0;32m/var/folders/lp/39_46_t11x1g_9_8h4gs4_d80000gn/T/ipykernel_43805/1618782194.py\u001b[0m in \u001b[0;36m<module>\u001b[0;34m\u001b[0m\n\u001b[1;32m      1\u001b[0m \u001b[0;31m#Single attribute\u001b[0m\u001b[0;34m\u001b[0m\u001b[0;34m\u001b[0m\u001b[0m\n\u001b[0;32m----> 2\u001b[0;31m \u001b[0mdata\u001b[0m\u001b[0;34m[\u001b[0m\u001b[0mdata\u001b[0m\u001b[0;34m[\u001b[0m\u001b[0;34m'school_code'\u001b[0m\u001b[0;34m]\u001b[0m \u001b[0;34m==\u001b[0m \u001b[0;34m'ABCG'\u001b[0m\u001b[0;34m]\u001b[0m\u001b[0;34m.\u001b[0m\u001b[0mhead\u001b[0m\u001b[0;34m(\u001b[0m\u001b[0;34m)\u001b[0m\u001b[0;34m\u001b[0m\u001b[0;34m\u001b[0m\u001b[0m\n\u001b[0m\u001b[1;32m      3\u001b[0m \u001b[0;34m\u001b[0m\u001b[0m\n\u001b[1;32m      4\u001b[0m \u001b[0;31m#Multiple attributes\u001b[0m\u001b[0;34m\u001b[0m\u001b[0;34m\u001b[0m\u001b[0m\n\u001b[1;32m      5\u001b[0m \u001b[0mdata\u001b[0m\u001b[0;34m[\u001b[0m\u001b[0;34m(\u001b[0m\u001b[0mdata\u001b[0m\u001b[0;34m[\u001b[0m\u001b[0;34m'school_code'\u001b[0m\u001b[0;34m]\u001b[0m \u001b[0;34m==\u001b[0m \u001b[0;34m'ABCG'\u001b[0m\u001b[0;34m)\u001b[0m \u001b[0;34m&\u001b[0m \u001b[0;34m(\u001b[0m\u001b[0mdata\u001b[0m\u001b[0;34m[\u001b[0m\u001b[0;34m'degree'\u001b[0m\u001b[0;34m]\u001b[0m \u001b[0;34m==\u001b[0m\u001b[0;34m'BS'\u001b[0m \u001b[0;34m)\u001b[0m\u001b[0;34m]\u001b[0m\u001b[0;34m.\u001b[0m\u001b[0mhead\u001b[0m\u001b[0;34m(\u001b[0m\u001b[0;34m)\u001b[0m\u001b[0;34m\u001b[0m\u001b[0;34m\u001b[0m\u001b[0m\n",
      "\u001b[0;31mNameError\u001b[0m: name 'data' is not defined"
     ]
    }
   ],
   "source": [
    "#Single attribute\n",
    "data[data['school_code'] == 'ABCG'].head()\n",
    "\n",
    "#Multiple attributes\n",
    "data[(data['school_code'] == 'ABCG') & (data['degree'] =='BS' )].head()"
   ]
  },
  {
   "cell_type": "markdown",
   "metadata": {},
   "source": [
    "<a id='filter_list'> </a>\n",
    "\n",
    "## Filtering data from a list\n",
    "\n",
    "<a href=\"#top\">Back to top</a>"
   ]
  },
  {
   "cell_type": "code",
   "execution_count": null,
   "metadata": {},
   "outputs": [],
   "source": [
    "#https://stackoverflow.com/questions/19960077/how-to-implement-in-and-not-in-for-pandas-dataframe/55554709#55554709\n",
    "\n",
    "agged_races = ['FOREIGN', 'MULTIPLE', 'UNKNOWN']\n",
    "\n",
    "#how to implement isin\n",
    "en_gr_data[en_gr_data['race_mapped'].isin(agged_races)][['race_mapped', 'students']]\n",
    "\n",
    "\n",
    "#how to implement is not in, note tilde (~)\n",
    "en_gr_data[~en_gr_data['race_mapped'].isin(agged_races)][['race_mapped', 'students']]"
   ]
  },
  {
   "cell_type": "markdown",
   "metadata": {},
   "source": [
    "\n",
    "<a id=data_3> </a>\n",
    "\n",
    "## Dataframe aggregation\n",
    "\n",
    "<a href=\"#top\">Back to top</a>\n"
   ]
  },
  {
   "cell_type": "code",
   "execution_count": 72,
   "metadata": {},
   "outputs": [
    {
     "name": "stdout",
     "output_type": "stream",
     "text": [
      "201\n"
     ]
    }
   ],
   "source": [
    "#number of majors in dataset\n",
    "\n",
    "major_count = data['major_code'].count()\n",
    "print(major_count)\n",
    "\n",
    "#number of distinct school_codes\n",
    "\n",
    "distinct_schools = data['school_code'].unique()\n",
    "school_count = len(distinct_schools)\n",
    "\n",
    "print(school_count)\n",
    "print(distinct_schools)\n",
    "\n",
    "data['total_students'].sum()\n",
    "\n"
   ]
  },
  {
   "cell_type": "markdown",
   "metadata": {},
   "source": [
    "<a id=data_5> </a>\n",
    "\n",
    "## Aggregation with groupby\n",
    "\n",
    "<a href=\"#top\">Back to top</a>"
   ]
  },
  {
   "cell_type": "code",
   "execution_count": 2,
   "metadata": {},
   "outputs": [
    {
     "name": "stdout",
     "output_type": "stream",
     "text": [
      "     year ON_OFF_COMMUTER  students\n",
      "0  2007.0        COMMUTER       285\n",
      "1  2007.0      OFF_CAMPUS       677\n",
      "2  2007.0       ON_CAMPUS       706\n",
      "3  2008.0        COMMUTER       250\n",
      "4  2008.0      OFF_CAMPUS       561\n",
      "        students\n",
      "year            \n",
      "2007.0      1668\n",
      "2008.0      1516\n",
      "2009.0      1469\n",
      "2010.0      1379\n",
      "2011.0      1416\n",
      "2012.0      1429\n",
      "2013.0      1451\n",
      "2014.0      1311\n",
      "2015.0      1188\n",
      "2016.0      1225\n",
      "2017.0      1221\n"
     ]
    }
   ],
   "source": [
    "data = dm.query_db(sql)\n",
    "\n",
    "annual_total_group = data.groupby('year')\n",
    "\n",
    "annual_total = annual_total_group.agg({'students' : 'sum'})\n",
    "\n",
    "print(annual_total)\n",
    "\n",
    "# NOTE A MULTI-LEVEL GROUP BY:\n",
    "\n",
    "#ft_bucketed = ft_data.groupby(['age_bucket','sex'])['PCTID'].count()\n",
    "\n",
    "# see also https://stackoverflow.com/questions/38174155/group-dataframe-and-get-sum-and-count\n"
   ]
  },
  {
   "cell_type": "markdown",
   "metadata": {},
   "source": [
    "<a id=value_counts> </a>\n",
    "\n",
    "## Exploration with value_counts\n",
    "\n",
    "<a href=\"#top\">Back to top</a>"
   ]
  },
  {
   "cell_type": "code",
   "execution_count": null,
   "metadata": {},
   "outputs": [],
   "source": [
    "housing[\"ocean_proximity\"].value_counts()"
   ]
  },
  {
   "cell_type": "markdown",
   "metadata": {},
   "source": [
    "<a id=data_4> </a>\n",
    "\n",
    "## Calculating percentiles\n",
    "\n",
    "<a href=\"#top\">Back to top</a>"
   ]
  },
  {
   "cell_type": "code",
   "execution_count": 69,
   "metadata": {},
   "outputs": [
    {
     "name": "stdout",
     "output_type": "stream",
     "text": [
      "\n",
      "gpa 75th percentile:\t\t3.466\n",
      "\n",
      "gpa 25th percentile:\t\t0.142\n",
      "\n",
      "\n"
     ]
    }
   ],
   "source": [
    "import numpy as np\n",
    "\n",
    "gpa_75th = np.percentile(data['semester_gpa'], 75)\n",
    "gpa_25th = np.percentile(data['semester_gpa'], 25)\n"
   ]
  },
  {
   "cell_type": "markdown",
   "metadata": {},
   "source": [
    "<a id=dataframes_5> </a>\n",
    "\n",
    "## Adding function columns with <em>apply</em>\n",
    "\n",
    "<a href=\"#altering_dfs\">Back to top</a>"
   ]
  },
  {
   "cell_type": "code",
   "execution_count": 99,
   "metadata": {},
   "outputs": [
    {
     "name": "stdout",
     "output_type": "stream",
     "text": [
      "Before:\n",
      "   semester_status  registered_credits  semester_gpa\n",
      "0             NEW                16.0         1.937\n",
      "1         CURRENT                12.0         3.333\n",
      "2         CURRENT                16.0         2.000\n",
      "3         CURRENT                10.0         2.400\n",
      "4             NEW                15.0         2.066\n",
      "\n",
      "After:\n",
      "   semester_status  registered_credits  semester_gpa          credit_load\n",
      "0             NEW                16.0         1.937  might be pushing it\n",
      "1         CURRENT                12.0         3.333           OK I guess\n",
      "2         CURRENT                16.0         2.000  might be pushing it\n",
      "3         CURRENT                10.0         2.400           OK I guess\n",
      "4             NEW                15.0         2.066           OK I guess\n"
     ]
    }
   ],
   "source": [
    "#https://www.geeksforgeeks.org/applying-lambda-functions-to-pandas-dataframe/\n",
    " \n",
    "text_table['tokenized_count'] = text_table.apply(lambda x: (len(x['tokenized'])), axis='columns')\n",
    "    \n",
    "# or\n",
    "    \n",
    "\n",
    "def load(row):\n",
    "    if int(row['registered_credits']) > 17 :\n",
    "        return 'wayy too many!'\n",
    "    elif int(row['registered_credits']) > 15 :\n",
    "        return 'might be pushing it'\n",
    "    else:\n",
    "        return 'OK I guess'\n",
    "    \n",
    "#Get test data\n",
    "import sys\n",
    "sys.path.append('C:\\\\Users\\\\me\\\\My Documents\\\\Jupyter\\\\modules\\\\')\n",
    "import datamart.remote as dm\n",
    "\n",
    "query = \"\"\"\n",
    "...\n",
    "\"\"\"\n",
    "\n",
    "data = dm.query_db(query)\n",
    "\n",
    "print('Before:\\n', data.head())\n",
    "\n",
    "data['credit_load'] = data.apply(load, axis='columns')\n",
    "\n",
    "\n",
    "\n",
    "print('\\nAfter:\\n', data.head())\n"
   ]
  },
  {
   "cell_type": "markdown",
   "metadata": {},
   "source": [
    "<a id=add_row> </a>\n",
    "\n",
    "## Adding rows to a dataframe\n",
    "\n",
    "Note this approach simply appends one dataframe to another. \n",
    "For more, see: https://pandas.pydata.org/pandas-docs/stable/user_guide/merging.html\n",
    "\n",
    "If the columns aren't the same name, they'll be appended as new columns.\n",
    "\n",
    "<a href=\"#altering_dfs\">Back to top</a>"
   ]
  },
  {
   "cell_type": "code",
   "execution_count": null,
   "metadata": {},
   "outputs": [],
   "source": [
    "agged_races = ['FOREIGN', 'MULTIPLE', 'UNKNOWN', 'HAWAIIAN']\n",
    "\n",
    "report_df_1 = en_gr_data[~en_gr_data['race_mapped'].isin(agged_races)][['race_mapped', 'students']]\n",
    "\n",
    "report_other = pd.DataFrame([['Other', int(en_gr_data[en_gr_data['race_mapped'].isin(agged_races)][['students']].sum())]])\n",
    "report_other.columns = ['race_mapped', 'students']\n",
    "\n",
    "report = report_df_1.append([report_other])\n"
   ]
  },
  {
   "cell_type": "markdown",
   "metadata": {},
   "source": [
    "## creating and assigning multiple columns via apply\n",
    "<a href=\"#top\">Back to top</a>"
   ]
  },
  {
   "cell_type": "code",
   "execution_count": null,
   "metadata": {},
   "outputs": [],
   "source": [
    "#https://stackoverflow.com/questions/47983466/create-multiple-pandas-dataframe-columns-from-applying-a-function-with-multiple?noredirect=1&lq=1\n",
    "\n",
    "def get_pct(row):\n",
    "    return pd.Series((row['on_campus_students'] / row['students'],\n",
    "                     row['off_campus_students'] / row['students'],\n",
    "                     row['commuter_students'] / row['students']))\n",
    "\n",
    "\n",
    "plot_data[['pct_on_campus', 'pct_off_campus', 'pct_commuter']] = plot_data.apply(get_pct, axis='columns')\n",
    "\n",
    "plot_data\n"
   ]
  },
  {
   "cell_type": "markdown",
   "metadata": {},
   "source": [
    "<a id='data_1'> </a>\n",
    "\n",
    "### Handling bad or missing data\n",
    "\n",
    "<a href=\"#top\">Back to top</a>\n"
   ]
  },
  {
   "cell_type": "code",
   "execution_count": 10,
   "metadata": {},
   "outputs": [],
   "source": [
    "df.fillna(0, inplace=True) #   !!! this will replace null values with zeroes\n"
   ]
  },
  {
   "cell_type": "markdown",
   "metadata": {},
   "source": [
    "<a id=zip> </a>\n",
    "\n",
    "## zip\n",
    "\n",
    "Aggregates elements from multiple iterables. Note this stops at the end of the shortes one. \n",
    "\n",
    "More info here: https://docs.python.org/3/library/functions.html#zip\n",
    "\n",
    "<a href=\"#array_list_head\">Back to top</a>"
   ]
  },
  {
   "cell_type": "code",
   "execution_count": 9,
   "metadata": {},
   "outputs": [
    {
     "data": {
      "text/plain": [
       "[16, 16, 16]"
      ]
     },
     "execution_count": 9,
     "metadata": {},
     "output_type": "execute_result"
    }
   ],
   "source": [
    "a = [3, 3, 3]\n",
    "b = [3, 3, 3]\n",
    "c = [10, 10, 10]\n",
    "\n",
    "[sum(x) for x in zip(a, b, c)]\n",
    "\n"
   ]
  },
  {
   "cell_type": "markdown",
   "metadata": {},
   "source": [
    "<a id=vstack> </a>\n",
    "\n",
    "## vstack with transpose\n",
    "\n",
    "This example stacks the transpose of 3 arrays, effectively re-creating a multidimentional array of n-th elements.\n",
    "\n",
    "More about the .T (transpose) syntax here:\n",
    " https://stackoverflow.com/questions/5741372/syntax-in-python-t\n",
    "\n",
    "\n",
    "<a href=\"#array_list_head\">Back to top</a>"
   ]
  },
  {
   "cell_type": "code",
   "execution_count": 44,
   "metadata": {},
   "outputs": [
    {
     "data": {
      "text/plain": [
       "[['a', '1.0', '10'], ['b', '2.0', '20'], ['c', '3.0', '30']]"
      ]
     },
     "execution_count": 44,
     "metadata": {},
     "output_type": "execute_result"
    }
   ],
   "source": [
    "import numpy as np\n",
    "\n",
    "a = np.array(['a', 'b', 'c'])\n",
    "b = np.array([1.0, 2.0, 3.0])\n",
    "c = np.array([10, 20, 30])\n",
    "\n",
    "combined = np.vstack((a, b, c)).T\n",
    "\n",
    "combined.tolist()"
   ]
  },
  {
   "cell_type": "markdown",
   "metadata": {},
   "source": [
    "<a id=unpack_list> </a>\n",
    "\n",
    "## Unpack a list with asterisk operator\n",
    "\n",
    "One application is to put each list element on a new line.\n",
    "\n",
    "https://medium.com/understand-the-python/understanding-the-asterisk-of-python-8b9daaa4a558\n",
    "\n",
    "\n",
    "<a href=\"#array_list_head\">Back to top</a>"
   ]
  },
  {
   "cell_type": "code",
   "execution_count": 4,
   "metadata": {},
   "outputs": [
    {
     "name": "stdout",
     "output_type": "stream",
     "text": [
      "[1, 2, 3, 4, 5]\n",
      "1\n",
      "2\n",
      "3\n",
      "4\n",
      "5\n"
     ]
    }
   ],
   "source": [
    "testlist = [1,2,3,4,5]\n",
    "print(testlist)\n",
    "print(*testlist, sep='\\n')"
   ]
  },
  {
   "cell_type": "markdown",
   "metadata": {},
   "source": [
    "<a id=dataframes_2> </a>\n",
    "\n",
    "## Adding new dumb column to existing dataframe\n",
    "\n",
    "<a href=\"#altering_dfs\">Back to top</a>"
   ]
  },
  {
   "cell_type": "code",
   "execution_count": null,
   "metadata": {},
   "outputs": [],
   "source": [
    "df['new column name'] = new_column_value\n",
    "\n",
    "df['new_empty'] = np.nan"
   ]
  },
  {
   "cell_type": "markdown",
   "metadata": {},
   "source": [
    "<a id=del> </a>\n",
    "\n",
    "## Deleting a column from a dataframe\n",
    "\n",
    "<a href=\"#altering_dfs\">Back to top</a>"
   ]
  },
  {
   "cell_type": "code",
   "execution_count": null,
   "metadata": {},
   "outputs": [],
   "source": [
    "#https://stackoverflow.com/questions/13411544/delete-column-from-pandas-dataframe#13485766\n",
    "\n",
    "del df['column_to_remove']\n",
    "\n",
    "df.drop(columns=['B', 'C'])\n"
   ]
  },
  {
   "cell_type": "markdown",
   "metadata": {},
   "source": [
    "<a id=named_tuple> </a>\n",
    "\n",
    "## Named tuple\n",
    "\n",
    "<a href=\"#array_list_head\">Back to top</a>"
   ]
  },
  {
   "cell_type": "code",
   "execution_count": 1,
   "metadata": {},
   "outputs": [],
   "source": [
    "from collections import namedtuple\n",
    "\n",
    "Entry = namedtuple('Entry', ['key', 'text', 'value'])\n",
    "x = Entry('a1', 'primary_key', 'what is the question?', [0,3,5,])\n"
   ]
  },
  {
   "cell_type": "code",
   "execution_count": 2,
   "metadata": {},
   "outputs": [],
   "source": [
    "x = Entry('a1', 'primary_key', 'what is the question?', [0,3,5,])\n"
   ]
  },
  {
   "cell_type": "markdown",
   "metadata": {},
   "source": [
    "<a id=iterrows> </a>\n",
    "\n",
    "## iterrows\n",
    "\n",
    "Iterate over a dataframe (index, data). \n",
    "\n",
    "More info here: https://pandas.pydata.org/pandas-docs/stable/reference/api/pandas.DataFrame.iterrows.html\n",
    "\n",
    "<a href=\"#top\">Back to top</a>"
   ]
  },
  {
   "cell_type": "code",
   "execution_count": 17,
   "metadata": {},
   "outputs": [
    {
     "name": "stdout",
     "output_type": "stream",
     "text": [
      "Nursing & Health Sciences\n",
      "Industrial, Computing & Engineering Technologies\n",
      "Construction & Design Technologies\n",
      "Transportation & Natural Resources Technologies\n",
      "Business & Hospitality\n",
      "Sciences, Humanities & Visual Communications\n",
      "High School Programs\n",
      "Non-Degree\n",
      "     YEAR                                            school  total_students\n",
      "0  2018.0                         Nursing & Health Sciences            1534\n",
      "1  2018.0  Industrial, Computing & Engineering Technologies            1520\n",
      "2  2018.0                Construction & Design Technologies             690\n",
      "3  2018.0   Transportation & Natural Resources Technologies             688\n",
      "4  2018.0                            Business & Hospitality             492\n",
      "5  2018.0      Sciences, Humanities & Visual Communications             365\n",
      "6  2018.0                              High School Programs             133\n",
      "7  2018.0                                        Non-Degree              33\n"
     ]
    }
   ],
   "source": [
    "for index, data in data.iterrows(): #note that data is a pandas series\n",
    "    print(data['school'])\n",
    "    \n",
    "print(data)"
   ]
  },
  {
   "cell_type": "markdown",
   "metadata": {},
   "source": [
    "<a id=dataframes_1> </a>\n",
    "\n",
    "## Listing dataframe columns\n",
    "\n",
    "<a href=\"#top\">Back to top</a>"
   ]
  },
  {
   "cell_type": "code",
   "execution_count": null,
   "metadata": {},
   "outputs": [],
   "source": [
    "df.columns.values"
   ]
  },
  {
   "cell_type": "markdown",
   "metadata": {},
   "source": [
    "<a id=is_in> </a>\n",
    "\n",
    "## Filtering on multiple values with `isin`\n",
    "\n",
    "<a href=\"#top\">Back to top</a>"
   ]
  },
  {
   "cell_type": "code",
   "execution_count": null,
   "metadata": {},
   "outputs": [],
   "source": [
    "#https://stackoverflow.com/questions/19960077/how-to-filter-pandas-dataframe-using-in-and-not-in-like-in-sql\n",
    "\n",
    "comp_data[comp_data.final_grade.isin(['A','B','C'])].students.sum()"
   ]
  },
  {
   "cell_type": "markdown",
   "metadata": {},
   "source": [
    "<a id=dataframes_rename> </a>\n",
    "\n",
    "## Renaming dataframe columns\n",
    "\n",
    "<a href=\"#altering_dfs\">Back to top</a>"
   ]
  },
  {
   "cell_type": "code",
   "execution_count": null,
   "metadata": {},
   "outputs": [],
   "source": [
    "#https://stackoverflow.com/questions/11346283/renaming-columns-in-pandas#11354850\n",
    "\n",
    "df = df.rename(columns={'oldName1': 'newName1', 'oldName2': 'newName2'})\n",
    "\n",
    "# Or rename the existing DataFrame (rather than creating a copy) \n",
    "df.rename(columns={'oldName1': 'newName1', 'oldName2': 'newName2'}, inplace=True)\n",
    "\n",
    "\n",
    "#https://note.nkmk.me/en/python-pandas-dataframe-rename/\n",
    "\n",
    "df_new = df.rename(columns={'A': 'a'}, index={'ONE': 'one'})\n"
   ]
  },
  {
   "cell_type": "markdown",
   "metadata": {},
   "source": [
    "<a id=describe> </a>\n",
    "\n",
    "## Simple stats with describe\n",
    "\n",
    "<a href=\"#top\">Back to top</a>"
   ]
  },
  {
   "cell_type": "code",
   "execution_count": null,
   "metadata": {},
   "outputs": [],
   "source": [
    "df.describe"
   ]
  },
  {
   "cell_type": "markdown",
   "metadata": {},
   "source": [
    "<a id=na_counts> </a>\n",
    "\n",
    "## List NA count by column\n",
    "\n",
    "<a href=\"#top\">Back to top</a>"
   ]
  },
  {
   "cell_type": "code",
   "execution_count": null,
   "metadata": {},
   "outputs": [],
   "source": [
    "print(\"Count of NAs:\")\n",
    "df.isnull().sum()"
   ]
  },
  {
   "cell_type": "markdown",
   "metadata": {},
   "source": [
    "<a id=info> </a>\n",
    "\n",
    "## Metadata with info\n",
    "\n",
    "<a href=\"#top\">Back to top</a>"
   ]
  },
  {
   "cell_type": "code",
   "execution_count": null,
   "metadata": {},
   "outputs": [],
   "source": [
    "df.info()"
   ]
  },
  {
   "cell_type": "markdown",
   "metadata": {},
   "source": [
    "<a id=print_dataframes> </a>\n",
    "\n",
    "## Printing dataframes\n",
    "\n",
    "<a href=\"#top\">Back to top</a>"
   ]
  },
  {
   "cell_type": "code",
   "execution_count": null,
   "metadata": {},
   "outputs": [],
   "source": [
    "print(df.to_string(index=False))"
   ]
  },
  {
   "cell_type": "markdown",
   "metadata": {},
   "source": [
    "<a id=set_index> </a>\n",
    "\n",
    "## Changing or setting dataframe index\n",
    "\n",
    "<a href=\"#altering_dfs\">Back to top</a>"
   ]
  },
  {
   "cell_type": "code",
   "execution_count": null,
   "metadata": {},
   "outputs": [],
   "source": [
    "#https://pandas.pydata.org/pandas-docs/stable/reference/api/pandas.DataFrame.set_index.html\n",
    "\n",
    "base.set_index('major_code')"
   ]
  },
  {
   "cell_type": "markdown",
   "metadata": {},
   "source": [
    "<a id=convert_to_df> </a>\n",
    "\n",
    "## Converting lists and dicts to dataframes\n",
    "\n",
    "<a href=\"#creating_dfs\">Back to top</a>"
   ]
  },
  {
   "cell_type": "code",
   "execution_count": null,
   "metadata": {},
   "outputs": [],
   "source": [
    "#https://pbpython.com/pandas-list-dict.html\n"
   ]
  },
  {
   "cell_type": "markdown",
   "metadata": {},
   "source": [
    "<a id=dataframes_6> </a>\n",
    "\n",
    "## Joining dataframes\n",
    "\n",
    "<a href=\"#altering_dfs\">Back to top</a>"
   ]
  },
  {
   "cell_type": "code",
   "execution_count": null,
   "metadata": {},
   "outputs": [],
   "source": [
    "#on the index of both frames\n",
    "\n",
    "plot_data = pd.merge(annual_total, annual_ON, right_index=True, left_index=True)\n",
    "\n",
    "#when PCTID is the join column\n",
    "\n",
    "cohort_with_old_gpa = pd.merge(cohort, f17_backup_students, on='PCTID')\n",
    "\n",
    "#https://www.w3resource.com/python-exercises/pandas/joining-and-merging/pandas-joining-and-merging-dataframe-exercise-10.php\n",
    "#merged_data = pd.merge(data1, data2, on=['key1', 'key2'])\n"
   ]
  },
  {
   "cell_type": "markdown",
   "metadata": {},
   "source": [
    "<a id=dataframes_4> </a>\n",
    "\n",
    "## Joining multiple dataframes\n",
    "\n",
    "<a href=\"#altering_dfs\">Back to top</a>"
   ]
  },
  {
   "cell_type": "code",
   "execution_count": null,
   "metadata": {},
   "outputs": [],
   "source": [
    "frames = [student_data, latest_pc_credits, course_grades, placement_equiv, pc_subsequent, app_subsequent]\n",
    "\n",
    "frames = [frame.set_index('pctid') for frame in frames]\n",
    "\n",
    "report = frames[0].join(frames[1:]).reset_index()\n"
   ]
  },
  {
   "cell_type": "markdown",
   "metadata": {},
   "source": [
    "<a id=pd_read_excel> </a>\n",
    "\n",
    "## Reading an Excel file via pandas\n",
    "\n",
    "https://pandas.pydata.org/pandas-docs/stable/reference/api/pandas.read_excel.html\n",
    "\n",
    "<a href=\"#top\">Back to top</a>"
   ]
  },
  {
   "cell_type": "code",
   "execution_count": null,
   "metadata": {},
   "outputs": [],
   "source": [
    "bs_data = pd.read_excel('data\\gpa_3_BS.xlsx')"
   ]
  },
  {
   "cell_type": "markdown",
   "metadata": {},
   "source": [
    "<a id=to_excel> </a>\n",
    "\n",
    "## Writing a dataframe to Excel\n",
    "\n",
    "<a href=\"#top\">Back to top</a>"
   ]
  },
  {
   "cell_type": "code",
   "execution_count": null,
   "metadata": {},
   "outputs": [],
   "source": [
    "\n",
    "#simple\n",
    "#https://pandas.pydata.org/pandas-docs/stable/reference/api/pandas.DataFrame.to_excel.html\n",
    "combined_data.to_excel('test.xlsx')\n",
    "\n",
    "#detailed\n",
    "import xlsxwriter, pandas as pd\n",
    "\n",
    "writer = pd.ExcelWriter(\"my file name.xlsx\", engine='xlsxwriter')#\n",
    "\n",
    "df_1.to_excel(writer, sheet_name=\"sheet 1\")\n",
    "df_2.to_excel(writer, sheet_name=\"sheet 2\")\n",
    "\n",
    "writer.save()"
   ]
  },
  {
   "cell_type": "markdown",
   "metadata": {},
   "source": [
    "<a id=img_to_excel> </a>\n",
    "\n",
    "## Inserting image in Excel\n",
    "\n",
    "<a href=\"#top\">Back to top</a>"
   ]
  },
  {
   "cell_type": "code",
   "execution_count": null,
   "metadata": {},
   "outputs": [],
   "source": [
    "\n",
    "summary_sheet = writer.sheets['Summary']\n",
    "summary_sheet.insert_image('E2', 'Raw vs Stopped Histogram.png')\n",
    "\n",
    "writer.save()"
   ]
  },
  {
   "cell_type": "markdown",
   "metadata": {},
   "source": [
    "<a id=melt> </a>\n",
    "\n",
    "## Pivoting with aggregation / generalization via melt\n",
    "\n",
    "<a href=\"#top\">Back to top</a>"
   ]
  },
  {
   "cell_type": "code",
   "execution_count": null,
   "metadata": {},
   "outputs": [],
   "source": [
    "#https://pandas.pydata.org/pandas-docs/stable/reference/api/pandas.melt.html\n",
    "\n",
    "pd.melt(question_text_table(data), var_name='question_id', value_name='question_text')\n",
    "\n"
   ]
  },
  {
   "cell_type": "markdown",
   "metadata": {},
   "source": [
    "<a id=df_sort> </a>\n",
    "\n",
    "## Sorting Dataframe by column value\n",
    "\n",
    "https://stackoverflow.com/questions/17618981/how-to-sort-pandas-data-frame-using-values-from-several-columns\n",
    "\n",
    "<a href=\"#top\">Back to top</a>"
   ]
  },
  {
   "cell_type": "code",
   "execution_count": null,
   "metadata": {},
   "outputs": [],
   "source": [
    "grad_cips.sort_values(['pct_of_total'], ascending =False)"
   ]
  },
  {
   "cell_type": "markdown",
   "metadata": {},
   "source": [
    "<a id=df_dupes> </a>\n",
    "\n",
    "## Removing Duplicates from a DataFrame\n",
    "\n",
    "<a href=\"#top\">Back to top</a>"
   ]
  },
  {
   "cell_type": "code",
   "execution_count": null,
   "metadata": {},
   "outputs": [],
   "source": [
    "#https://pandas.pydata.org/pandas-docs/stable/reference/api/pandas.DataFrame.drop_duplicates.html\n",
    "\n",
    "pd.DataFrame.drop_duplicates(df)\n"
   ]
  },
  {
   "cell_type": "markdown",
   "metadata": {},
   "source": [
    "<a id=df_types> </a>\n",
    "\n",
    "## Changing data types in dataframe\n",
    "\n",
    "<a href=\"#altering_dfs\">Back to top</a>"
   ]
  },
  {
   "cell_type": "code",
   "execution_count": null,
   "metadata": {},
   "outputs": [],
   "source": [
    "#https://stackoverflow.com/questions/15891038/change-data-type-of-columns-in-pandas\n",
    "\n",
    "# convert all DataFrame columns to the int64 dtype\n",
    "df = df.astype(int)\n",
    "\n",
    "# convert column \"a\" to int64 dtype and \"b\" to complex type\n",
    "df = df.astype({\"a\": int, \"b\": complex})\n",
    "\n",
    "# convert Series to float16 type\n",
    "s = s.astype(np.float16)\n",
    "\n",
    "# convert Series to Python strings\n",
    "s = s.astype(str)\n",
    "\n",
    "# convert Series to categorical type - see docs for more details\n",
    "s = s.astype('category')\n",
    "\n",
    "conversion_dict = {\n",
    "    'N' : str,\n",
    "    'Cert ID' : str,\n",
    "    'WW ID' : str,\n",
    "    'Comp ID' : str,\n",
    "    'Sched Comp' : str,\n",
    "    'Part End Date' : str    \n",
    "}\n",
    "\n",
    "output = output.astype(conversion_dict)"
   ]
  },
  {
   "cell_type": "markdown",
   "metadata": {},
   "source": [
    "<a id=df_pad> </a>\n",
    "\n",
    "## Zero-padding a string column in dataframe\n",
    "\n",
    "<a href=\"#altering_dfs\">Back to top</a>"
   ]
  },
  {
   "cell_type": "code",
   "execution_count": null,
   "metadata": {},
   "outputs": [],
   "source": [
    "#https://stackoverflow.com/questions/42375068/python-add-a-leading-zero-to-column-with-str-and-int"
   ]
  },
  {
   "cell_type": "markdown",
   "metadata": {},
   "source": [
    "<a id=template> </a>\n",
    "\n",
    "## Header library template\n",
    "\n",
    "<a href=\"#top\">Back to top</a>"
   ]
  },
  {
   "cell_type": "code",
   "execution_count": 1,
   "metadata": {},
   "outputs": [],
   "source": [
    "import sys, datetime, pandas as pd\n",
    "import matplotlib.pyplot as plt\n",
    "sys.path.append('C:\\\\Jupyter\\\\modules\\\\')\n",
    "import datamart.remote as dm #custom tommaho thing\n"
   ]
  },
  {
   "cell_type": "markdown",
   "metadata": {},
   "source": [
    "<a id=bag> </a>\n",
    "\n",
    "## Utility functions: bag\n",
    "\n",
    "Concatenates duplicated results into single cell, replicates FOR XML grouping technique in MSSQL\n",
    "\n",
    "<a href=\"#top\">Back to top</a>"
   ]
  },
  {
   "cell_type": "code",
   "execution_count": null,
   "metadata": {},
   "outputs": [],
   "source": [
    "#this is a python replacement for what I'd previously do rolling up results via FOR XML\n",
    "\n",
    "def bag(df, handle, stuff, plural = 'bagged'):\n",
    "    b = []\n",
    "    \n",
    "    for i in df[handle].unique():\n",
    "        t = ''\n",
    "        \n",
    "        for x in df[df[handle] == i][stuff]:\n",
    "            t +=  x + ', '\n",
    "        \n",
    "        b.append([i, t[0:len(t)-2]]) #snip that trailing comma\n",
    "            \n",
    "    return pd.DataFrame.from_records(b, columns=[handle, plural])"
   ]
  },
  {
   "cell_type": "markdown",
   "metadata": {},
   "source": [
    "<a id=Autotable> </a>\n",
    "\n",
    "## Utility functions: autotable\n",
    "\n",
    "Pretty printing for report-like multidimentional array data.\n",
    "\n",
    "Note, theres something a little screwy because it's printing commas in the output.\n",
    "\n",
    "<a href=\"#top\">Back to top</a>"
   ]
  },
  {
   "cell_type": "code",
   "execution_count": 63,
   "metadata": {},
   "outputs": [
    {
     "name": "stdout",
     "output_type": "stream",
     "text": [
      "Before: \n",
      "\n",
      " [['Degree-seeking, first-time freshman:', [846, 339, 17, 14]], ['Other first-year, degree-seeking:', [336, 236, 61, 173]], ['All other degree-seeking:', [1942, 867, 218, 283]], ['Total degree-seeking:', [3126, 1442, 314, 487]], ['All other credit (ex-PCNOW):', [2, 0, 18, 17]], ['Total undergraduates:', [3126, 1442, 314, 487]], ['Degree-seeking, first-time (grad):', [0, 0, 0, 0]], ['All other degree-seeking (grad):', [0, 0, 0, 0]], ['All other credit (grad):', [0, 0, 0, 0]], ['Total graduate:', [0, 0, 0, 0]], ['Total all undergraduates:', [5369]], ['Total all graduate:', [0]], ['Grand total all students:', [5369]], ['Generated:', ['2018-06-05 13:46:47.333973']]]\n",
      "\n",
      "\n",
      "After: \n",
      "\n",
      " Degree-seeking, first-time fres*, 846                      , 339                      , 17                       , 14                       \n",
      "Other first-year, degree-seeking:  , 336                      , 236                      , 61                       , 173                      \n",
      "All other degree-seeking:          , 1942                     , 867                      , 218                      , 283                      \n",
      "Total degree-seeking:              , 3126                     , 1442                     , 314                      , 487                      \n",
      "All other credit (ex-PCNOW):       , 2                        , 0                        , 18                       , 17                       \n",
      "Total undergraduates:              , 3126                     , 1442                     , 314                      , 487                      \n",
      "Degree-seeking, first-time (grad): , 0                        , 0                        , 0                        , 0                        \n",
      "All other degree-seeking (grad):   , 0                        , 0                        , 0                        , 0                        \n",
      "All other credit (grad):           , 0                        , 0                        , 0                        , 0                        \n",
      "Total graduate:                    , 0                        , 0                        , 0                        , 0                        \n",
      "Total all undergraduates:          , 5369                                                          \n",
      "Total all graduate:                , 0                                                             \n",
      "Grand total all students:          , 5369                                                          \n",
      "Generated:                         , 2018-06-05 13:46:47.333973                                    \n",
      "\n"
     ]
    }
   ],
   "source": [
    "import sys\n",
    "sys.path.append('C:\\\\Users\\\\tcm16\\\\My Documents\\\\Jupyter\\\\modules\\\\')\n",
    "import autotable.autotable as at\n",
    "\n",
    "realtest = [['Degree-seeking, first-time freshman:'  , [846, 339, 17, 14]]\n",
    "           , ['Other first-year, degree-seeking:'   , [336, 236, 61, 173]]\n",
    "           , ['All other degree-seeking:'           , [1942, 867, 218, 283]]\n",
    "           , ['Total degree-seeking:'               , [3126, 1442, 314, 487]]\n",
    "           , ['All other credit (ex-PCNOW):'        , [2, 0, 18, 17]]\n",
    "           , ['Total undergraduates:'               , [3126, 1442, 314, 487]]\n",
    "           , ['Degree-seeking, first-time (grad):'  , [0, 0, 0, 0]]\n",
    "           , ['All other degree-seeking (grad):'    , [0, 0, 0, 0]]\n",
    "           , ['All other credit (grad):'            , [0, 0, 0, 0]]\n",
    "           , ['Total graduate:'                     , [0, 0, 0, 0]]\n",
    "           , ['Total all undergraduates:'           , [5369]]\n",
    "           , ['Total all graduate:'                 , [0]]\n",
    "           , ['Grand total all students:'           , [5369]]\n",
    "           , ['Generated:'                          , ['2018-06-05 13:46:47.333973']]]\n",
    "\n",
    "print(\"Before: \\n\\n\", realtest)\n",
    "\n",
    "\n",
    "\n",
    "print(\"\\n\\nAfter: \\n\\n\", at.auto_table(realtest))\n"
   ]
  },
  {
   "cell_type": "markdown",
   "metadata": {},
   "source": [
    "<a id=fast_hist> </a>\n",
    "\n",
    "## Visualizations: fast histograms\n",
    "\n",
    "<a href=\"#top\">Back to top</a>"
   ]
  },
  {
   "cell_type": "code",
   "execution_count": 7,
   "metadata": {},
   "outputs": [
    {
     "data": {
      "image/png": "[encoded data removed]",
      "text/plain": [
       "<matplotlib.figure.Figure at 0x2846b79afd0>"
      ]
     },
     "metadata": {
      "needs_background": "light"
     },
     "output_type": "display_data"
    }
   ],
   "source": [
    "import sys\n",
    "import pandas as pd\n",
    "import matplotlib.pyplot as plt\n",
    "\n",
    "sys.path.append('C:\\\\Users\\\\tcm16\\\\My Documents\\\\Jupyter\\\\modules\\\\')\n",
    "\n",
    "\n",
    "sql = \"\"\"\n",
    "...\n",
    "\"\"\"\n",
    "\n",
    "data = dm.query_db(sql)\n",
    "\n",
    "%matplotlib inline\n",
    "data.hist(figsize=(20,15))\n",
    "plt.show()"
   ]
  },
  {
   "cell_type": "markdown",
   "metadata": {},
   "source": [
    "<a id=fast_hist_single> </a>\n",
    "\n",
    "## Visualizations: fast single attribute histograms\n",
    "\n",
    "NOTE: load data above\n",
    "\n",
    "<a href=\"#top\">Back to top</a>"
   ]
  },
  {
   "cell_type": "code",
   "execution_count": 10,
   "metadata": {},
   "outputs": [
    {
     "data": {
      "text/plain": [
       "<matplotlib.axes._subplots.AxesSubplot at 0x2846bd98d68>"
      ]
     },
     "execution_count": 10,
     "metadata": {},
     "output_type": "execute_result"
    },
    {
     "data": {
      "image/png": "[encoded data removed]",
      "text/plain": [
       "<matplotlib.figure.Figure at 0x2846bce72e8>"
      ]
     },
     "metadata": {
      "needs_background": "light"
     },
     "output_type": "display_data"
    }
   ],
   "source": [
    "data['semester_gpa'].hist(bins=50)"
   ]
  },
  {
   "cell_type": "markdown",
   "metadata": {},
   "source": [
    "<a id=fast_scatter> </a>\n",
    "\n",
    "## Visualizations: fast scatters\n",
    "\n",
    "<a href=\"#top\">Back to top</a>"
   ]
  },
  {
   "cell_type": "code",
   "execution_count": 11,
   "metadata": {},
   "outputs": [
    {
     "data": {
      "text/plain": [
       "array([[<matplotlib.axes._subplots.AxesSubplot object at 0x000002846C1C6E48>,\n",
       "        <matplotlib.axes._subplots.AxesSubplot object at 0x000002846C3D3438>,\n",
       "        <matplotlib.axes._subplots.AxesSubplot object at 0x000002846C160FD0>],\n",
       "       [<matplotlib.axes._subplots.AxesSubplot object at 0x000002846C684390>,\n",
       "        <matplotlib.axes._subplots.AxesSubplot object at 0x000002846C6D3B38>,\n",
       "        <matplotlib.axes._subplots.AxesSubplot object at 0x000002846C6D3B70>],\n",
       "       [<matplotlib.axes._subplots.AxesSubplot object at 0x000002846C7A2550>,\n",
       "        <matplotlib.axes._subplots.AxesSubplot object at 0x000002846C81E208>,\n",
       "        <matplotlib.axes._subplots.AxesSubplot object at 0x000002846C87EB38>]],\n",
       "      dtype=object)"
      ]
     },
     "execution_count": 11,
     "metadata": {},
     "output_type": "execute_result"
    },
    {
     "data": {
      "image/png": "[encoded data removed]",
      "text/plain": [
       "<matplotlib.figure.Figure at 0x2846c36ed30>"
      ]
     },
     "metadata": {
      "needs_background": "light"
     },
     "output_type": "display_data"
    }
   ],
   "source": [
    "from pandas.plotting import scatter_matrix\n",
    "\n",
    "scatter_matrix(data, figsize=(12,8))"
   ]
  },
  {
   "cell_type": "markdown",
   "metadata": {},
   "source": [
    "<a id=rotate_xlabel> </a>\n",
    "\n",
    "## Visualizations: rotate x labels\n",
    "\n",
    "https://stackoverflow.com/questions/26540035/rotate-label-text-in-seaborn-factorplot\n",
    "\n",
    "<a href=\"#top\">Back to top</a>"
   ]
  },
  {
   "cell_type": "code",
   "execution_count": null,
   "metadata": {},
   "outputs": [],
   "source": [
    "# Bar chart showing average score for racing games by platform\n",
    "plt.figure(figsize=(20,6))\n",
    "sns.barplot(x=ign_data.index, y = ign_data['Racing']) # Your code here\n",
    "plt.xticks(rotation=45)\n",
    "# Check your answer\n",
    "step_3.a.check()"
   ]
  },
  {
   "cell_type": "markdown",
   "metadata": {},
   "source": [
    "<a id=seaborn_heatmap> </a>\n",
    "\n",
    "## Visualizations: Seaborn Heatmap\n",
    "\n",
    "\n",
    "<a href=\"#top\">Back to top</a>"
   ]
  },
  {
   "cell_type": "code",
   "execution_count": null,
   "metadata": {},
   "outputs": [],
   "source": [
    "import matplotlib.pyplot as plt\n",
    "%matplotlib inline\n",
    "import seaborn as sns\n",
    "\n",
    "# Heatmap showing average game score by platform and genre\n",
    "plt.figure(figsize=(16,10)) # Your code here\n",
    "\n",
    "plt.title('Heatmap')\n",
    "\n",
    "sns.heatmap(data=ign_data, annot=True)"
   ]
  },
  {
   "cell_type": "markdown",
   "metadata": {},
   "source": [
    "<a id=seaborn_regplot> </a>\n",
    "\n",
    "## Visualizations: Seaborn Regression Plot\n",
    "\n",
    "https://www.kaggle.com/alexisbcook/scatter-plots\n",
    "\n",
    "<a href=\"#top\">Back to top</a>"
   ]
  },
  {
   "cell_type": "code",
   "execution_count": null,
   "metadata": {},
   "outputs": [],
   "source": [
    "sns.scatterplot(x=insurance_data['bmi'], y=insurance_data['charges'], hue=insurance_data['smoker'])\n",
    "\n",
    "sns.lmplot(x=\"bmi\", y=\"charges\", hue=\"smoker\", data=insurance_data)\n"
   ]
  },
  {
   "cell_type": "markdown",
   "metadata": {},
   "source": [
    "<a id=plot_excel> </a>\n",
    "\n",
    "## Visualizations: Saving a plot into an excel file\n",
    "\n",
    "https://pythoninoffice.com/save-python-plots-into-excel-file/\n",
    "\n",
    "<a href=\"#top\">Back to top</a>"
   ]
  },
  {
   "cell_type": "code",
   "execution_count": null,
   "metadata": {},
   "outputs": [],
   "source": [
    "import xlsxwriter, pandas as pd\n",
    "\n",
    "writer = pd.ExcelWriter(output_report_file, engine='xlsxwriter')#\n",
    "\n",
    "summary_df.to_excel(writer, sheet_name=\"Summary\")\n",
    "\n",
    "chart_sheet = writer.sheets['Summary']\n",
    "chart_sheet.insert_image('A12', 'Raw vs Stopped Histogram.png')\n",
    "\n",
    "test_data.to_excel(writer, sheet_name=\"Analysis\")\n",
    "\n",
    "writer.save()\n"
   ]
  },
  {
   "cell_type": "code",
   "execution_count": 9,
   "metadata": {},
   "outputs": [
    {
     "data": {
      "text/plain": [
       "['The', 'Learn', 'Python', 'Challenge', 'Casino.']"
      ]
     },
     "execution_count": 9,
     "metadata": {},
     "output_type": "execute_result"
    }
   ],
   "source": [
    "doc_list = [\"The Learn Python Challenge Casino.\", \"They bought a car\", \"Casinoville\"]\n",
    "doc_list[0].split()"
   ]
  },
  {
   "cell_type": "markdown",
   "metadata": {},
   "source": [
    "<a id=regex_1> </a>\n",
    "\n",
    "## Regex - finding a word in a string\n",
    "\n",
    "\n",
    "<a href=\"#strings_text_head\">Back to top</a>"
   ]
  },
  {
   "cell_type": "code",
   "execution_count": 6,
   "metadata": {},
   "outputs": [
    {
     "name": "stdout",
     "output_type": "stream",
     "text": [
      "<re.Match object; span=(0, 11), match='Hello World'>\n",
      "None\n"
     ]
    }
   ],
   "source": [
    "#https://www.w3schools.com/python/python_regex.asp\n",
    "\n",
    "import re\n",
    "\n",
    "r = \"(hi|hello|hey)[ ]*([a-z]*)\"\n",
    "\n",
    "string_1 = 'Hello World'\n",
    "\n",
    "print(re.match(r, string_1, flags=re.IGNORECASE))\n",
    "\n",
    "string_2 = 'Hola World'\n",
    "print(re.match(r, string_2, flags=re.IGNORECASE))\n"
   ]
  },
  {
   "cell_type": "code",
   "execution_count": null,
   "metadata": {},
   "outputs": [],
   "source": []
  },
  {
   "cell_type": "code",
   "execution_count": 14,
   "metadata": {},
   "outputs": [
    {
     "data": {
      "text/plain": [
       "'te'"
      ]
     },
     "execution_count": 14,
     "metadata": {},
     "output_type": "execute_result"
    }
   ],
   "source": [
    "import re\n",
    "r = \"([^/])\"\n",
    "\n",
    "value = 'te/st'\n",
    "\n",
    "\n",
    "#print(value)\n",
    "\n",
    "#print(re.match(r, value, flags=re.IGNORECASE))\n",
    "\n",
    "value[0:value.index('/')]\n"
   ]
  },
  {
   "cell_type": "markdown",
   "metadata": {},
   "source": [
    "<a id=regex_2> </a>\n",
    "\n",
    "## Regex - decomposing an address\n",
    "\n",
    "<a href=\"#strings_text_head\">Back to top</a>"
   ]
  },
  {
   "cell_type": "code",
   "execution_count": 35,
   "metadata": {},
   "outputs": [
    {
     "name": "stdout",
     "output_type": "stream",
     "text": [
      "City is North Stewarts town\n",
      "State is PA\n",
      "Zip is 17363-8400\n"
     ]
    }
   ],
   "source": [
    "add3 = 'North Stewarts town PA 17363-8400'\n",
    "\n",
    "city_r = '([A-Za-z ]*)\\s[A-Z][A-Z]\\s'\n",
    "city = re.findall(city_r, add3)[0].strip()\n",
    "print(f'City is {city}')\n",
    "\n",
    "state_r = \"\\s[A-Z][A-Z]\\s\"\n",
    "state = re.findall(state_r, add3)[0].strip()\n",
    "print(f'State is {state}')\n",
    "\n",
    "zip_r = \"\\s\\d{5}-\\d{4}\"\n",
    "zip_code = re.findall(zip_r, add3)[0].strip()\n",
    "print(f'Zip is {zip_code}')\n"
   ]
  },
  {
   "cell_type": "markdown",
   "metadata": {},
   "source": [
    "<a id=text_1> </a>\n",
    "\n",
    "## Text Tokenizing\n",
    "\n",
    "<a href=\"#strings_text_head\">Back to top</a>"
   ]
  },
  {
   "cell_type": "code",
   "execution_count": 2,
   "metadata": {},
   "outputs": [
    {
     "data": {
      "text/plain": [
       "['A', 'quick', 'brown', 'fox', 'jumped', 'over', 'a', 'lazy', 'dog.']"
      ]
     },
     "execution_count": 2,
     "metadata": {},
     "output_type": "execute_result"
    }
   ],
   "source": [
    "sentence = \"\"\"\n",
    "A quick brown fox jumped over a lazy dog.\n",
    "\"\"\"\n",
    "sentence.split()\n"
   ]
  },
  {
   "cell_type": "markdown",
   "metadata": {},
   "source": [
    "<a id=text_3> </a>\n",
    "\n",
    "## Text Tokenizing with a REGEX\n",
    "\n",
    "<a href=\"#strings_text_head\">Back to top</a>"
   ]
  },
  {
   "cell_type": "code",
   "execution_count": 17,
   "metadata": {},
   "outputs": [
    {
     "name": "stdout",
     "output_type": "stream",
     "text": [
      "With:\t['', '\\n', 'A', '-', 'quick', '-', 'brown', ',', 'fox', '.', 'jumped', '.', 'over', '#', 'a', '#', 'lazy', '_', 'dog', '\\n', '']\n",
      "\n",
      "Without: ['', 'A', 'quick', 'brown', 'fox', 'jumped', 'over', 'a', 'lazy', 'dog', '']\n"
     ]
    }
   ],
   "source": [
    "import re\n",
    "sentence = \"\"\"\n",
    "A-quick-brown,fox.jumped.over#a#lazy_dog.\n",
    "\"\"\"\n",
    "tokens_with_punctuation = re.split(r'([-\\s.,#_])+', sentence)\n",
    "\n",
    "tokens_without_punctuation = re.split(r'[-\\s.,#_]+', sentence) #note missing parens\n",
    "\n",
    "print(f'With:\\t{tokens_with_punctuation}')\n",
    "\n",
    "print(f'\\nWithout: {tokens_without_punctuation}')"
   ]
  },
  {
   "cell_type": "markdown",
   "metadata": {},
   "source": [
    "<a id=text_2> </a>\n",
    "\n",
    "## One-hot encoding text\n",
    "\n",
    "<a href=\"#strings_text_head\">Back to top</a>"
   ]
  },
  {
   "cell_type": "code",
   "execution_count": 4,
   "metadata": {},
   "outputs": [
    {
     "data": {
      "text/plain": [
       "'A, a, brown, dog., fox, jumped, lazy, over, quick'"
      ]
     },
     "execution_count": 4,
     "metadata": {},
     "output_type": "execute_result"
    }
   ],
   "source": [
    "import numpy as np\n",
    "sentence = \"\"\"\n",
    "A quick brown fox jumped over a lazy dog.\n",
    "\"\"\"\n",
    "token_sequence = sentence.split()\n",
    "vocab = sorted(set(token_sequence))\n",
    "', '.join(vocab)"
   ]
  },
  {
   "cell_type": "code",
   "execution_count": 6,
   "metadata": {},
   "outputs": [],
   "source": [
    "num_tokens = len(token_sequence)\n",
    "vocab_size = len(vocab)\n",
    "onehot_vectors = np.zeros((num_tokens, vocab_size), int)\n",
    "\n",
    "for i, word in enumerate(token_sequence):\n",
    "    onehot_vectors[i, vocab.index(word)] = 1"
   ]
  },
  {
   "cell_type": "code",
   "execution_count": 7,
   "metadata": {},
   "outputs": [
    {
     "data": {
      "text/plain": [
       "'A a brown dog. fox jumped lazy over quick'"
      ]
     },
     "execution_count": 7,
     "metadata": {},
     "output_type": "execute_result"
    }
   ],
   "source": [
    "' '.join(vocab)"
   ]
  },
  {
   "cell_type": "code",
   "execution_count": 11,
   "metadata": {},
   "outputs": [
    {
     "data": {
      "text/html": [
       "<div>\n",
       "<style scoped>\n",
       "    .dataframe tbody tr th:only-of-type {\n",
       "        vertical-align: middle;\n",
       "    }\n",
       "\n",
       "    .dataframe tbody tr th {\n",
       "        vertical-align: top;\n",
       "    }\n",
       "\n",
       "    .dataframe thead th {\n",
       "        text-align: right;\n",
       "    }\n",
       "</style>\n",
       "<table border=\"1\" class=\"dataframe\">\n",
       "  <thead>\n",
       "    <tr style=\"text-align: right;\">\n",
       "      <th></th>\n",
       "      <th>A</th>\n",
       "      <th>a</th>\n",
       "      <th>brown</th>\n",
       "      <th>dog.</th>\n",
       "      <th>fox</th>\n",
       "      <th>jumped</th>\n",
       "      <th>lazy</th>\n",
       "      <th>over</th>\n",
       "      <th>quick</th>\n",
       "    </tr>\n",
       "  </thead>\n",
       "  <tbody>\n",
       "    <tr>\n",
       "      <th>0</th>\n",
       "      <td>1</td>\n",
       "      <td>0</td>\n",
       "      <td>0</td>\n",
       "      <td>0</td>\n",
       "      <td>0</td>\n",
       "      <td>0</td>\n",
       "      <td>0</td>\n",
       "      <td>0</td>\n",
       "      <td>0</td>\n",
       "    </tr>\n",
       "    <tr>\n",
       "      <th>1</th>\n",
       "      <td>0</td>\n",
       "      <td>0</td>\n",
       "      <td>0</td>\n",
       "      <td>0</td>\n",
       "      <td>0</td>\n",
       "      <td>0</td>\n",
       "      <td>0</td>\n",
       "      <td>0</td>\n",
       "      <td>1</td>\n",
       "    </tr>\n",
       "    <tr>\n",
       "      <th>2</th>\n",
       "      <td>0</td>\n",
       "      <td>0</td>\n",
       "      <td>1</td>\n",
       "      <td>0</td>\n",
       "      <td>0</td>\n",
       "      <td>0</td>\n",
       "      <td>0</td>\n",
       "      <td>0</td>\n",
       "      <td>0</td>\n",
       "    </tr>\n",
       "    <tr>\n",
       "      <th>3</th>\n",
       "      <td>0</td>\n",
       "      <td>0</td>\n",
       "      <td>0</td>\n",
       "      <td>0</td>\n",
       "      <td>1</td>\n",
       "      <td>0</td>\n",
       "      <td>0</td>\n",
       "      <td>0</td>\n",
       "      <td>0</td>\n",
       "    </tr>\n",
       "    <tr>\n",
       "      <th>4</th>\n",
       "      <td>0</td>\n",
       "      <td>0</td>\n",
       "      <td>0</td>\n",
       "      <td>0</td>\n",
       "      <td>0</td>\n",
       "      <td>1</td>\n",
       "      <td>0</td>\n",
       "      <td>0</td>\n",
       "      <td>0</td>\n",
       "    </tr>\n",
       "    <tr>\n",
       "      <th>5</th>\n",
       "      <td>0</td>\n",
       "      <td>0</td>\n",
       "      <td>0</td>\n",
       "      <td>0</td>\n",
       "      <td>0</td>\n",
       "      <td>0</td>\n",
       "      <td>0</td>\n",
       "      <td>1</td>\n",
       "      <td>0</td>\n",
       "    </tr>\n",
       "    <tr>\n",
       "      <th>6</th>\n",
       "      <td>0</td>\n",
       "      <td>1</td>\n",
       "      <td>0</td>\n",
       "      <td>0</td>\n",
       "      <td>0</td>\n",
       "      <td>0</td>\n",
       "      <td>0</td>\n",
       "      <td>0</td>\n",
       "      <td>0</td>\n",
       "    </tr>\n",
       "    <tr>\n",
       "      <th>7</th>\n",
       "      <td>0</td>\n",
       "      <td>0</td>\n",
       "      <td>0</td>\n",
       "      <td>0</td>\n",
       "      <td>0</td>\n",
       "      <td>0</td>\n",
       "      <td>1</td>\n",
       "      <td>0</td>\n",
       "      <td>0</td>\n",
       "    </tr>\n",
       "    <tr>\n",
       "      <th>8</th>\n",
       "      <td>0</td>\n",
       "      <td>0</td>\n",
       "      <td>0</td>\n",
       "      <td>1</td>\n",
       "      <td>0</td>\n",
       "      <td>0</td>\n",
       "      <td>0</td>\n",
       "      <td>0</td>\n",
       "      <td>0</td>\n",
       "    </tr>\n",
       "  </tbody>\n",
       "</table>\n",
       "</div>"
      ],
      "text/plain": [
       "   A  a  brown  dog.  fox  jumped  lazy  over  quick\n",
       "0  1  0      0     0    0       0     0     0      0\n",
       "1  0  0      0     0    0       0     0     0      1\n",
       "2  0  0      1     0    0       0     0     0      0\n",
       "3  0  0      0     0    1       0     0     0      0\n",
       "4  0  0      0     0    0       1     0     0      0\n",
       "5  0  0      0     0    0       0     0     1      0\n",
       "6  0  1      0     0    0       0     0     0      0\n",
       "7  0  0      0     0    0       0     1     0      0\n",
       "8  0  0      0     1    0       0     0     0      0"
      ]
     },
     "execution_count": 11,
     "metadata": {},
     "output_type": "execute_result"
    }
   ],
   "source": [
    "import pandas as pd\n",
    "pd.DataFrame(onehot_vectors, columns=vocab)"
   ]
  },
  {
   "cell_type": "markdown",
   "metadata": {},
   "source": [
    "<a id=date_time> </a>\n",
    "\n",
    "## Date and time stuff\n",
    "\n",
    "<a href=\"#top\">Back to top</a>"
   ]
  },
  {
   "cell_type": "code",
   "execution_count": 1,
   "metadata": {},
   "outputs": [
    {
     "data": {
      "text/plain": [
       "'2020-08-24'"
      ]
     },
     "execution_count": 1,
     "metadata": {},
     "output_type": "execute_result"
    }
   ],
   "source": [
    "#https://stackoverflow.com/questions/32490629/getting-todays-date-in-yyyy-mm-dd-in-python\n",
    "\n",
    "from datetime import datetime\n",
    "\n",
    "datetime.today().strftime('%Y-%m-%d')"
   ]
  }
 ],
 "metadata": {
  "kernelspec": {
   "display_name": "Python 3 (ipykernel)",
   "language": "python",
   "name": "python3"
  },
  "language_info": {
   "codemirror_mode": {
    "name": "ipython",
    "version": 3
   },
   "file_extension": ".py",
   "mimetype": "text/x-python",
   "name": "python",
   "nbconvert_exporter": "python",
   "pygments_lexer": "ipython3",
   "version": "3.9.7"
  }
 },
 "nbformat": 4,
 "nbformat_minor": 2
}
